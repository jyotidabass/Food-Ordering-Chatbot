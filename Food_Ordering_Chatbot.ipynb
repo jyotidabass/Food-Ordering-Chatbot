{
  "nbformat": 4,
  "nbformat_minor": 0,
  "metadata": {
    "colab": {
      "provenance": [],
      "authorship_tag": "ABX9TyMeCa+OPX1q4pK8H4ZaKFkt",
      "include_colab_link": true
    },
    "kernelspec": {
      "name": "python3",
      "display_name": "Python 3"
    },
    "language_info": {
      "name": "python"
    }
  },
  "cells": [
    {
      "cell_type": "markdown",
      "metadata": {
        "id": "view-in-github",
        "colab_type": "text"
      },
      "source": [
        "<a href=\"https://colab.research.google.com/github/jyotidabass/Food-Ordering-Chatbot/blob/main/Food_Ordering_Chatbot.ipynb\" target=\"_parent\"><img src=\"https://colab.research.google.com/assets/colab-badge.svg\" alt=\"Open In Colab\"/></a>"
      ]
    },
    {
      "cell_type": "code",
      "source": [
        "nltk.download('punkt_tab')\n",
        "import nltk\n",
        "from nltk.tokenize import word_tokenize\n",
        "from nltk.corpus import stopwords\n",
        "\n",
        "# Dummy data for food items\n",
        "food_items = [\n",
        "    {\"id\": 1, \"name\": \"Pizza\", \"price\": 10},\n",
        "    {\"id\": 2, \"name\": \"Burger\", \"price\": 12},\n",
        "    {\"id\": 3, \"name\": \"Sandwich\", \"price\": 8}\n",
        "]\n",
        "\n",
        "# Dummy data for orders\n",
        "orders = []\n",
        "\n",
        "def chatbot():\n",
        "    print(\"Welcome to the Food Ordering Chatbot!\")\n",
        "    while True:\n",
        "        order_text = input(\"You: \")\n",
        "        text = order_text.lower()\n",
        "        tokens = word_tokenize(text)\n",
        "        if \"order\" in tokens:\n",
        "            print(\"Please select a food item:\")\n",
        "            for i, item in enumerate(food_items):\n",
        "                print(f\"{i+1}. {item['name']} - ${item['price']}\")\n",
        "            food_choice = int(input(\"You: \")) - 1\n",
        "            order = {\"food_item\": food_items[food_choice][\"name\"], \"status\": \"Placed\"}\n",
        "            orders.append(order)\n",
        "            print(f\"Your order for {order['food_item']} has been placed.\")\n",
        "        elif \"cancel\" in tokens:\n",
        "            if orders:\n",
        "                print(\"Please select an order to cancel:\")\n",
        "                for i, order in enumerate(orders):\n",
        "                    print(f\"{i+1}. {order['food_item']} - {order['status']}\")\n",
        "                cancel_choice = int(input(\"You: \")) - 1\n",
        "                orders.pop(cancel_choice)\n",
        "                print(\"Order cancelled.\")\n",
        "            else:\n",
        "                print(\"No orders to cancel.\")\n",
        "        elif \"pay\" in tokens:\n",
        "            if orders:\n",
        "                print(\"You have the following orders:\")\n",
        "                for i, order in enumerate(orders):\n",
        "                    print(f\"{i+1}. {order['food_item']} - {order['status']}\")\n",
        "                pay_choice = int(input(\"You: \")) - 1\n",
        "                orders[pay_choice][\"status\"] = \"Paid\"\n",
        "                print(\"Order paid.\")\n",
        "            else:\n",
        "                print(\"No orders to pay.\")\n",
        "        elif \"quit\" in tokens:\n",
        "            print(\"Goodbye!\")\n",
        "            break\n",
        "        else:\n",
        "            print(\"Invalid option. Please try again.\")\n",
        "\n",
        "chatbot()"
      ],
      "metadata": {
        "colab": {
          "base_uri": "https://localhost:8080/",
          "height": 540
        },
        "id": "kaGrExN70odE",
        "outputId": "60370dea-f051-4bf5-c870-dabbff2f3af4"
      },
      "execution_count": 14,
      "outputs": [
        {
          "output_type": "stream",
          "name": "stderr",
          "text": [
            "[nltk_data] Downloading package punkt_tab to /root/nltk_data...\n",
            "[nltk_data]   Unzipping tokenizers/punkt_tab.zip.\n"
          ]
        },
        {
          "name": "stdout",
          "output_type": "stream",
          "text": [
            "Welcome to the Food Ordering Chatbot!\n",
            "You: order\n",
            "Please select a food item:\n",
            "1. Pizza - $10\n",
            "2. Burger - $12\n",
            "3. Sandwich - $8\n",
            "You: 1\n",
            "Your order for Pizza has been placed.\n",
            "You: pay\n",
            "You have the following orders:\n",
            "1. Pizza - Placed\n",
            "You: cancel\n"
          ]
        },
        {
          "output_type": "error",
          "ename": "ValueError",
          "evalue": "invalid literal for int() with base 10: 'cancel'",
          "traceback": [
            "\u001b[0;31m---------------------------------------------------------------------------\u001b[0m",
            "\u001b[0;31mValueError\u001b[0m                                Traceback (most recent call last)",
            "\u001b[0;32m<ipython-input-14-08a464788b95>\u001b[0m in \u001b[0;36m<cell line: 56>\u001b[0;34m()\u001b[0m\n\u001b[1;32m     54\u001b[0m             \u001b[0mprint\u001b[0m\u001b[0;34m(\u001b[0m\u001b[0;34m\"Invalid option. Please try again.\"\u001b[0m\u001b[0;34m)\u001b[0m\u001b[0;34m\u001b[0m\u001b[0;34m\u001b[0m\u001b[0m\n\u001b[1;32m     55\u001b[0m \u001b[0;34m\u001b[0m\u001b[0m\n\u001b[0;32m---> 56\u001b[0;31m \u001b[0mchatbot\u001b[0m\u001b[0;34m(\u001b[0m\u001b[0;34m)\u001b[0m\u001b[0;34m\u001b[0m\u001b[0;34m\u001b[0m\u001b[0m\n\u001b[0m",
            "\u001b[0;32m<ipython-input-14-08a464788b95>\u001b[0m in \u001b[0;36mchatbot\u001b[0;34m()\u001b[0m\n\u001b[1;32m     43\u001b[0m                 \u001b[0;32mfor\u001b[0m \u001b[0mi\u001b[0m\u001b[0;34m,\u001b[0m \u001b[0morder\u001b[0m \u001b[0;32min\u001b[0m \u001b[0menumerate\u001b[0m\u001b[0;34m(\u001b[0m\u001b[0morders\u001b[0m\u001b[0;34m)\u001b[0m\u001b[0;34m:\u001b[0m\u001b[0;34m\u001b[0m\u001b[0;34m\u001b[0m\u001b[0m\n\u001b[1;32m     44\u001b[0m                     \u001b[0mprint\u001b[0m\u001b[0;34m(\u001b[0m\u001b[0;34mf\"{i+1}. {order['food_item']} - {order['status']}\"\u001b[0m\u001b[0;34m)\u001b[0m\u001b[0;34m\u001b[0m\u001b[0;34m\u001b[0m\u001b[0m\n\u001b[0;32m---> 45\u001b[0;31m                 \u001b[0mpay_choice\u001b[0m \u001b[0;34m=\u001b[0m \u001b[0mint\u001b[0m\u001b[0;34m(\u001b[0m\u001b[0minput\u001b[0m\u001b[0;34m(\u001b[0m\u001b[0;34m\"You: \"\u001b[0m\u001b[0;34m)\u001b[0m\u001b[0;34m)\u001b[0m \u001b[0;34m-\u001b[0m \u001b[0;36m1\u001b[0m\u001b[0;34m\u001b[0m\u001b[0;34m\u001b[0m\u001b[0m\n\u001b[0m\u001b[1;32m     46\u001b[0m                 \u001b[0morders\u001b[0m\u001b[0;34m[\u001b[0m\u001b[0mpay_choice\u001b[0m\u001b[0;34m]\u001b[0m\u001b[0;34m[\u001b[0m\u001b[0;34m\"status\"\u001b[0m\u001b[0;34m]\u001b[0m \u001b[0;34m=\u001b[0m \u001b[0;34m\"Paid\"\u001b[0m\u001b[0;34m\u001b[0m\u001b[0;34m\u001b[0m\u001b[0m\n\u001b[1;32m     47\u001b[0m                 \u001b[0mprint\u001b[0m\u001b[0;34m(\u001b[0m\u001b[0;34m\"Order paid.\"\u001b[0m\u001b[0;34m)\u001b[0m\u001b[0;34m\u001b[0m\u001b[0;34m\u001b[0m\u001b[0m\n",
            "\u001b[0;31mValueError\u001b[0m: invalid literal for int() with base 10: 'cancel'"
          ]
        }
      ]
    },
    {
      "cell_type": "code",
      "source": [
        "import nltk\n",
        "from nltk.tokenize import word_tokenize\n",
        "from nltk.corpus import stopwords\n",
        "\n",
        "# Dummy data for food items\n",
        "food_items = [\n",
        "    {\"id\": 1, \"name\": \"Pizza\", \"price\": 10},\n",
        "    {\"id\": 2, \"name\": \"Burger\", \"price\": 12},\n",
        "    {\"id\": 3, \"name\": \"Sandwich\", \"price\": 8}\n",
        "]\n",
        "\n",
        "# Dummy data for orders\n",
        "orders = []\n",
        "\n",
        "def chatbot():\n",
        "    print(\"Welcome to the Food Ordering Chatbot!\")\n",
        "    while True:\n",
        "        order_text = input(\"You: \")\n",
        "        text = order_text.lower()\n",
        "        tokens = word_tokenize(text)\n",
        "        if \"order\" in tokens:\n",
        "            print(\"Please select a food item:\")\n",
        "            for i, item in enumerate(food_items):\n",
        "                print(f\"{i+1}. {item['name']} - ${item['price']}\")\n",
        "            # Try to convert input to int, handle ValueError\n",
        "            try:\n",
        "                food_choice = int(input(\"You: \")) - 1\n",
        "            except ValueError:\n",
        "                print(\"Invalid input. Please enter a number.\")\n",
        "                continue # Go to the next iteration of the loop\n",
        "\n",
        "            order = {\"food_item\": food_items[food_choice][\"name\"], \"status\": \"Placed\"}\n",
        "            orders.append(order)\n",
        "            print(f\"Your order for {order['food_item']} has been placed.\")\n",
        "        elif \"cancel\" in tokens:\n",
        "            if orders:\n",
        "                print(\"Please select an order to cancel:\")\n",
        "                for i, order in enumerate(orders):\n",
        "                    print(f\"{i+1}. {order['food_item']} - {order['status']}\")\n",
        "                try:\n",
        "                    cancel_choice = int(input(\"You: \")) - 1\n",
        "                except ValueError:\n",
        "                    print(\"Invalid input. Please enter a number.\")\n",
        "                    continue\n",
        "                orders.pop(cancel_choice)\n",
        "                print(\"Order cancelled.\")\n",
        "            else:\n",
        "                print(\"No orders to cancel.\")\n",
        "        elif \"pay\" in tokens:\n",
        "            if orders:\n",
        "                print(\"You have the following orders:\")\n",
        "                for i, order in enumerate(orders):\n",
        "                    print(f\"{i+1}. {order['food_item']} - {order['status']}\")\n",
        "                # Try to convert input to int, handle ValueError\n",
        "                try:\n",
        "                    pay_choice = int(input(\"You: \")) - 1\n",
        "                except ValueError:\n",
        "                    print(\"Invalid input. Please enter a number.\")\n",
        "                    continue # Go to the next iteration of the loop\n",
        "                orders[pay_choice][\"status\"] = \"Paid\"\n",
        "                print(\"Order paid.\")\n",
        "            else:\n",
        "                print(\"No orders to pay.\")\n",
        "        elif \"quit\" in tokens:\n",
        "            print(\"Goodbye!\")\n",
        "            break\n",
        "        else:\n",
        "            print(\"Invalid option. Please try again.\")\n",
        "\n",
        "chatbot()"
      ],
      "metadata": {
        "colab": {
          "base_uri": "https://localhost:8080/"
        },
        "id": "skozkFpu1qJl",
        "outputId": "70325260-f3ac-4d62-97c0-493573ce90c6"
      },
      "execution_count": 15,
      "outputs": [
        {
          "output_type": "stream",
          "name": "stdout",
          "text": [
            "Welcome to the Food Ordering Chatbot!\n",
            "You: order\n",
            "Please select a food item:\n",
            "1. Pizza - $10\n",
            "2. Burger - $12\n",
            "3. Sandwich - $8\n",
            "You: 1\n",
            "Your order for Pizza has been placed.\n",
            "You: cancel\n",
            "Please select an order to cancel:\n",
            "1. Pizza - Placed\n",
            "You: 1\n",
            "Order cancelled.\n",
            "You: pay\n",
            "No orders to pay.\n",
            "You: quit\n",
            "Goodbye!\n"
          ]
        }
      ]
    }
  ]
}